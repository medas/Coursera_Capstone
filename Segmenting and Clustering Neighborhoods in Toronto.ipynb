{
    "cells": [
        {
            "cell_type": "markdown",
            "metadata": {
                "collapsed": true
            },
            "source": "# Segmenting and Clustering Neighborhoods in Toronto"
        },
        {
            "cell_type": "markdown",
            "metadata": {},
            "source": "## Table of Contents\n\n<div class=\"alert alert-block alert-info\" style=\"margin-top: 20px\">\n\n<font size = 3>\n\n1. <a href=\"#item1\">Question 1</a>\n    \n1.1. <a href=\"#item1\">Conclusion</a>\n2. <a href=\"#item2\">Question 2</a>\n    \n2.1. <a href=\"#item1\">Conclusion</a>\n    \n3. <a href=\"#item3\">Question 3</a>\n    \n3.1. <a href=\"#item1\">Conclusion</a>\n</font>\n</div>"
        },
        {
            "cell_type": "markdown",
            "metadata": {},
            "source": "## 1. Question 1"
        },
        {
            "cell_type": "markdown",
            "metadata": {},
            "source": "*Use the Notebook to build the code to scrape the following Wikipedia page, https://en.wikipedia.org/wiki/List_of_postal_codes_of_Canada:_M, in order to obtain the data that is in the table of postal codes and to transform the data into a pandas dataframe like the one shown below:*\n\n<img src = \"https://d3c33hcgiwev3.cloudfront.net/imageAssetProxy.v1/7JXaz3NNEeiMwApe4i-fLg_40e690ae0e927abda2d4bde7d94ed133_Screen-Shot-2018-06-18-at-7.17.57-PM.png?expiry=1588636800000&hmac=ssKIQrsG6VHIIby2_yiH4jQ1yUt124BPn_UWPv6ncGk\" width=\"500\" height=\"500\" />"
        },
        {
            "cell_type": "markdown",
            "metadata": {},
            "source": "The code to scrape the following Wikipedia page, https://en.wikipedia.org/wiki/List_of_postal_codes_of_Canada:_M, in order to obtain the data that is in the table of postal codes and to transform the data into a pandas dataframe like the one shown below:"
        },
        {
            "cell_type": "markdown",
            "metadata": {},
            "source": "(optional) If needed, install the *pip* package in the current Jupyter kernel."
        },
        {
            "cell_type": "code",
            "execution_count": null,
            "metadata": {},
            "outputs": [],
            "source": "# import sys\n# !{sys.executable} -m pip install BeautifulSoup4"
        },
        {
            "cell_type": "markdown",
            "metadata": {},
            "source": "Scrape the webpage from Wikipedia that contains the complete list of postal codes for the city of Toronto. We use the *request* library to scrape the page."
        },
        {
            "cell_type": "code",
            "execution_count": null,
            "metadata": {},
            "outputs": [],
            "source": "import requests\nwebsite_url = requests.get('https://en.wikipedia.org/wiki/List_of_postal_codes_of_Canada:_M').text"
        },
        {
            "cell_type": "markdown",
            "metadata": {},
            "source": "We will use  the *BeautifulSoup* library to handle the content of the page. We will use the *lxml* parser since its the recommended one and also reportedly very fast."
        },
        {
            "cell_type": "code",
            "execution_count": null,
            "metadata": {},
            "outputs": [],
            "source": "from bs4 import BeautifulSoup\nsoup = BeautifulSoup(website_url,'lxml')"
        },
        {
            "cell_type": "markdown",
            "metadata": {},
            "source": "Let's look for a table in the code. *BeautifulSoup* allows us to search for an HTML element by it's type. So lets look for a *table*."
        },
        {
            "cell_type": "code",
            "execution_count": null,
            "metadata": {},
            "outputs": [],
            "source": "soup.table.name"
        },
        {
            "cell_type": "markdown",
            "metadata": {},
            "source": "There is one table element named 'table' in the text. Let's get the first table row (the first *tr* element) to see if this has table headers."
        },
        {
            "cell_type": "code",
            "execution_count": null,
            "metadata": {},
            "outputs": [],
            "source": "#another way to get the same result: soup.table.tr.findAll()\nprint(soup.table.tr.text)"
        },
        {
            "cell_type": "markdown",
            "metadata": {},
            "source": "So now lets scrape the postal codes to a Data Frame. We will iterate in the table and look for all the *tr* elements, the rows and scrape the data from it. Since the first row contains the row header we will need to remove it from the data frame after all the data is loaded."
        },
        {
            "cell_type": "code",
            "execution_count": null,
            "metadata": {},
            "outputs": [],
            "source": "import pandas as pd"
        },
        {
            "cell_type": "markdown",
            "metadata": {},
            "source": "The list of headers for our data frame."
        },
        {
            "cell_type": "code",
            "execution_count": null,
            "metadata": {},
            "outputs": [],
            "source": "headers=[\"Postalcode\",\"Borough\",\"Neighbourhood\"]"
        },
        {
            "cell_type": "markdown",
            "metadata": {},
            "source": "The data frame is named *df_toronto*."
        },
        {
            "cell_type": "code",
            "execution_count": null,
            "metadata": {},
            "outputs": [],
            "source": "df_toronto = pd.DataFrame(columns= headers)"
        },
        {
            "cell_type": "code",
            "execution_count": null,
            "metadata": {},
            "outputs": [],
            "source": "for row in soup.table.find_all('tr'):\n    row_data=[]\n    for data in row.find_all('th'):\n        row_data.append(data.text.strip())\n    for data in row.find_all('td'):\n        row_data.append(data.text.strip())\n    df_toronto.loc[len(df_toronto)] = row_data"
        },
        {
            "cell_type": "markdown",
            "metadata": {},
            "source": "Now we have our data frame, let's check it."
        },
        {
            "cell_type": "code",
            "execution_count": null,
            "metadata": {},
            "outputs": [],
            "source": "df_toronto.head()"
        },
        {
            "cell_type": "markdown",
            "metadata": {},
            "source": "We need to remove the first row from the Dataset."
        },
        {
            "cell_type": "code",
            "execution_count": null,
            "metadata": {},
            "outputs": [],
            "source": "# delete the first row from the dataFrame\ndf_toronto.drop(0, inplace=True)"
        },
        {
            "cell_type": "code",
            "execution_count": null,
            "metadata": {},
            "outputs": [],
            "source": "df_toronto.head()"
        },
        {
            "cell_type": "markdown",
            "metadata": {},
            "source": "Now we will remove the postal codes not assigned to a borough."
        },
        {
            "cell_type": "code",
            "execution_count": null,
            "metadata": {},
            "outputs": [],
            "source": "# Get names of indexes for which the column Borough has a value \"Not assigned\"\nnot_assigned = df_toronto[df_toronto['Borough'] =='Not assigned'].index\n\n# Delete the row indexes from the data frame\ndf_toronto.drop(not_assigned, inplace=True)"
        },
        {
            "cell_type": "code",
            "execution_count": null,
            "metadata": {},
            "outputs": [],
            "source": "df_toronto.head()"
        },
        {
            "cell_type": "markdown",
            "metadata": {},
            "source": "Let's check how many rows the data frame contains now."
        },
        {
            "cell_type": "code",
            "execution_count": null,
            "metadata": {},
            "outputs": [],
            "source": "df_toronto.shape"
        },
        {
            "cell_type": "markdown",
            "metadata": {},
            "source": "How many distinct postal codes are in the data frame?"
        },
        {
            "cell_type": "code",
            "execution_count": null,
            "metadata": {},
            "outputs": [],
            "source": "df_toronto.nunique()"
        },
        {
            "cell_type": "markdown",
            "metadata": {},
            "source": "So there is no need to merge different rows since this version of the page has no longer repeated postal codes. But the neighbourhood names are not separeted by commas but by slashes /. So let's fix this."
        },
        {
            "cell_type": "code",
            "execution_count": null,
            "metadata": {},
            "outputs": [],
            "source": "df_toronto.Neighbourhood = df_toronto.Neighbourhood.replace(\" /\", ',', regex=True)\ndf_toronto.head()"
        },
        {
            "cell_type": "markdown",
            "metadata": {},
            "source": "### 1.1. Conclusion\n\nWe can see the full data frame below."
        },
        {
            "cell_type": "code",
            "execution_count": null,
            "metadata": {},
            "outputs": [],
            "source": "df_toronto"
        },
        {
            "cell_type": "markdown",
            "metadata": {},
            "source": "## 2. Question 2\n\nNow that you have built a dataframe of the postal code of each neighborhood along with the borough name and neighborhood name, in order to utilize the Foursquare location data, we need to get the latitude and the longitude coordinates of each neighborhood.\n\nIn an older version of this course, we were leveraging the Google Maps Geocoding API to get the latitude and the longitude coordinates of each neighborhood. However, recently Google started charging for their API: http://geoawesomeness.com/developers-up-in-arms-over-google-maps-api-insane-price-hike/, so we will use the Geocoder Python package instead: https://geocoder.readthedocs.io/index.html.\n\nThe problem with this Package is you have to be persistent sometimes in order to get the geographical coordinates of a given postal code. So you can make a call to get the latitude and longitude coordinates of a given postal code and the result would be None, and then make the call again and you would get the coordinates. So, in order to make sure that you get the coordinates for all of our neighborhoods, you can run a while loop for each postal code. Taking postal code M5G as an example, your code would look something like this:\n\nGiven that this package can be very unreliable, in case you are not able to get the geographical coordinates of the neighborhoods using the Geocoder package, here is a link to a csv file that has the geographical coordinates of each postal code: http://cocl.us/Geospatial_data\n\nUse the Geocoder package or the csv file to create the following dataframe:\n<img src=\"https://d3c33hcgiwev3.cloudfront.net/imageAssetProxy.v1/HZ3jNHNOEeiMwApe4i-fLg_f44f0f10ccfaf42fcbdba9813364e173_Screen-Shot-2018-06-18-at-7.18.16-PM.png?expiry=1588636800000&hmac=epN7y9Ean0VJJ-40CNmcZ9ztJhgYTUYI5v09sgxi9WY\" width=\"500\" height=\"500\" />"
        },
        {
            "cell_type": "markdown",
            "metadata": {},
            "source": "There was no data retrieved from Google using the *geocoder* library. *Geocoder* offers other geodata sources, for example *arcgis* for the same purpose.\n\nI will first retrieve the coordinates data from the csv file available for this question."
        },
        {
            "cell_type": "code",
            "execution_count": null,
            "metadata": {},
            "outputs": [],
            "source": "#add Geo-spatial data\ndf_coord= pd.read_csv(\"http://cocl.us/Geospatial_data\")\n#dfll.set_index(\"Postcode\")"
        },
        {
            "cell_type": "markdown",
            "metadata": {},
            "source": "We can check that the file was loaded in the data frame."
        },
        {
            "cell_type": "code",
            "execution_count": null,
            "metadata": {},
            "outputs": [],
            "source": "df_coord.head()"
        },
        {
            "cell_type": "markdown",
            "metadata": {},
            "source": "We need to rename the first column to *Postalcode*  so we can merge this data frame with the *boroughs* dataframe we previously created, *df_toronto*."
        },
        {
            "cell_type": "code",
            "execution_count": null,
            "metadata": {},
            "outputs": [],
            "source": "df_coord.rename(columns={'Postal Code':'Postalcode'},inplace=True)"
        },
        {
            "cell_type": "code",
            "execution_count": null,
            "metadata": {},
            "outputs": [],
            "source": "This dataframe has the same number of rows."
        },
        {
            "cell_type": "code",
            "execution_count": null,
            "metadata": {},
            "outputs": [],
            "source": "df_coord.shape"
        },
        {
            "cell_type": "markdown",
            "metadata": {},
            "source": "Lets merge the two datagrames, using the *Postalcode* column as the column name to join on."
        },
        {
            "cell_type": "code",
            "execution_count": null,
            "metadata": {},
            "outputs": [],
            "source": "df_all_boroughs = pd.merge(df_toronto, df_coord, on = 'Postalcode')"
        },
        {
            "cell_type": "markdown",
            "metadata": {},
            "source": "The result of the merge is the dataframe *df_all_boroughs*."
        },
        {
            "cell_type": "code",
            "execution_count": null,
            "metadata": {},
            "outputs": [],
            "source": "df_all_boroughs.head()"
        },
        {
            "cell_type": "markdown",
            "metadata": {},
            "source": "### Retrieving the geo coordinates from the ArcGis database using the *geocoder* library"
        },
        {
            "cell_type": "markdown",
            "metadata": {},
            "source": "Since using geocoder to retrieve geo coordinates from Google was not working, we used another well known geo data provider, *ArcGis*. \nWe don't need an API key to use it."
        },
        {
            "cell_type": "markdown",
            "metadata": {},
            "source": "First we need to install *geocoder* and import it."
        },
        {
            "cell_type": "code",
            "execution_count": null,
            "metadata": {},
            "outputs": [],
            "source": "import sys\n!{sys.executable} -m pip install geocoder"
        },
        {
            "cell_type": "code",
            "execution_count": null,
            "metadata": {},
            "outputs": [],
            "source": "import geocoder"
        },
        {
            "cell_type": "markdown",
            "metadata": {},
            "source": "Using *geocoder* to retrieve geo data from Google is not working:"
        },
        {
            "cell_type": "code",
            "execution_count": null,
            "metadata": {},
            "outputs": [],
            "source": "import geocoder\ng = geocoder.google('Mountain View, CA')\ng.latlng\nprint(g.latlng)"
        },
        {
            "cell_type": "markdown",
            "metadata": {},
            "source": "So we will create a function to retrieve geo data from ArcGis using *geocoder*."
        },
        {
            "cell_type": "code",
            "execution_count": null,
            "metadata": {},
            "outputs": [],
            "source": "def get_latlng(postal_code):\n    # initialize your variable to None\n    lat_lng_coords = None\n    # loop until you get the coordinates\n    while(lat_lng_coords is None):\n        g = geocoder.arcgis('{}, Toronto, Ontario'.format(postal_code))\n        lat_lng_coords = g.latlng\n    return lat_lng_coords[0],lat_lng_coords[1]"
        },
        {
            "cell_type": "markdown",
            "metadata": {},
            "source": "If we feed the function with an address we will get the geo data for it."
        },
        {
            "cell_type": "code",
            "execution_count": null,
            "metadata": {},
            "outputs": [],
            "source": "get_latlng('M3A')"
        },
        {
            "cell_type": "markdown",
            "metadata": {},
            "source": "We will create a new column on the data frame and fill it with the geo data for the postal code in each line."
        },
        {
            "cell_type": "code",
            "execution_count": null,
            "metadata": {},
            "outputs": [],
            "source": "df_toronto['coord'] = df_toronto.Postalcode.apply(lambda x: get_latlng(x))"
        },
        {
            "cell_type": "markdown",
            "metadata": {},
            "source": "The data frame now has all the geo data we need but now we need to split it in two columns, *Latitude* and *Longitude* and drop the *coord* column after it."
        },
        {
            "cell_type": "code",
            "execution_count": null,
            "metadata": {},
            "outputs": [],
            "source": "df_toronto.head()"
        },
        {
            "cell_type": "code",
            "execution_count": null,
            "metadata": {},
            "outputs": [],
            "source": "df_toronto['Latitude'] = df_toronto.coord.apply(lambda x: x[0])\ndf_toronto['Longitude'] = df_toronto.coord.apply(lambda x: x[1])"
        },
        {
            "cell_type": "code",
            "execution_count": null,
            "metadata": {},
            "outputs": [],
            "source": "df_toronto.drop(\"coord\", axis=1, inplace=True)"
        },
        {
            "cell_type": "markdown",
            "metadata": {},
            "source": "Finnaly, we have the data frame with the desired data, labeled as we wanted."
        },
        {
            "cell_type": "code",
            "execution_count": null,
            "metadata": {},
            "outputs": [],
            "source": "df_toronto.head()"
        },
        {
            "cell_type": "code",
            "execution_count": null,
            "metadata": {},
            "outputs": [],
            "source": "df_toronto.info()"
        },
        {
            "cell_type": "code",
            "execution_count": null,
            "metadata": {},
            "outputs": [],
            "source": "df_toronto"
        },
        {
            "cell_type": "markdown",
            "metadata": {},
            "source": "### 2.1. Conclusion"
        },
        {
            "cell_type": "markdown",
            "metadata": {},
            "source": "We retrieved the geo data from two sources. The first source was the CSV file provided by IBM and the second source was the geo data from ArcGis retrieved using *geocoder*."
        },
        {
            "cell_type": "code",
            "execution_count": null,
            "metadata": {},
            "outputs": [],
            "source": "# from a CSV file\ndf_all_boroughs"
        },
        {
            "cell_type": "code",
            "execution_count": null,
            "metadata": {},
            "outputs": [],
            "source": "# from the ArcGis geo data using the geocoder library\ndf_toronto"
        },
        {
            "cell_type": "markdown",
            "metadata": {},
            "source": "## 3. Question 3"
        },
        {
            "cell_type": "code",
            "execution_count": null,
            "metadata": {},
            "outputs": [],
            "source": ""
        }
    ],
    "metadata": {
        "kernelspec": {
            "display_name": "Python 3.6",
            "language": "python",
            "name": "python3"
        },
        "language_info": {
            "codemirror_mode": {
                "name": "ipython",
                "version": 3
            },
            "file_extension": ".py",
            "mimetype": "text/x-python",
            "name": "python",
            "nbconvert_exporter": "python",
            "pygments_lexer": "ipython3",
            "version": "3.6.9"
        }
    },
    "nbformat": 4,
    "nbformat_minor": 1
}